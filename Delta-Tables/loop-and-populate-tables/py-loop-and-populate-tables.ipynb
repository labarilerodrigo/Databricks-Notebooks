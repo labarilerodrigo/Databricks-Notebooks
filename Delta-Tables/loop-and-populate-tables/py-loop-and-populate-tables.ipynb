{
 "cells": [
  {
   "cell_type": "markdown",
   "metadata": {
    "application/vnd.databricks.v1+cell": {
     "cellMetadata": {},
     "inputWidgets": {},
     "nuid": "808daa00-d706-44a5-83da-e0f61b86e5fd",
     "showTitle": false,
     "title": ""
    }
   },
   "source": [
    "# Loop through all existing tables in a database, and insert the data from each table into table in target db"
   ]
  },
  {
   "cell_type": "code",
   "execution_count": 0,
   "metadata": {
    "application/vnd.databricks.v1+cell": {
     "cellMetadata": {
      "byteLimit": 2048000,
      "rowLimit": 10000
     },
     "inputWidgets": {},
     "nuid": "c0f6f916-3703-4833-94c4-4f2be90b1af1",
     "showTitle": false,
     "title": ""
    }
   },
   "outputs": [],
   "source": [
    "from pyspark.sql.types import *\n",
    "\n",
    "DatabaseDF = \"devl_br9_pcm_ppp_pilot\"\n",
    "# df = spark.sql(f\"show Tables FROM {DatabaseDF} like 'pcm_cpp_prices_sub_natl'\")\n",
    "df = spark.sql(f\"show Tables FROM {DatabaseDF}\")\n",
    "\n",
    "df = df.select(\"TableName\")\n",
    "list = [x[\"TableName\"] for x in df.collect()]\n",
    "\n",
    "## Iterate through list of schema\n",
    "for x in list:\n",
    "    tempTable = x\n",
    "    src_table = \"la_bdf_devl.devl_br9_pcm_ppp_pilot.\" + tempTable\n",
    "    dst_table = \"la_bdf_devl.devl_br9_pcm_ppp_pilot_02.\" + tempTable\n",
    "    dst_truncate_table = \"truncate table \" + dst_table\n",
    "\n",
    "    # print(src_table)\n",
    "    # print(dst_table)\n",
    "\n",
    "    # truncate data\n",
    "    spark.sql(dst_truncate_table)\n",
    "    # print(dst_truncate_table)\n",
    "\n",
    "    # populate dst table from src db\n",
    "    insert_qry = \"insert into \" + dst_table + \" select * from \" + src_table\n",
    "    spark.sql(insert_qry)\n",
    "    # print(insert_qry)"
   ]
  },
  {
   "cell_type": "code",
   "execution_count": 0,
   "metadata": {
    "application/vnd.databricks.v1+cell": {
     "cellMetadata": {},
     "inputWidgets": {},
     "nuid": "cd9b0d89-b7e6-4826-a885-c6e13eb8451b",
     "showTitle": false,
     "title": ""
    }
   },
   "outputs": [],
   "source": []
  }
 ],
 "metadata": {
  "application/vnd.databricks.v1+notebook": {
   "dashboards": [],
   "language": "python",
   "notebookMetadata": {
    "mostRecentlyExecutedCommandWithImplicitDF": {
     "commandId": 974492905197273,
     "dataframes": [
      "_sqldf"
     ]
    },
    "pythonIndentUnit": 4
   },
   "notebookName": "py-loop-and-populate-tables",
   "notebookOrigID": 974492905197301,
   "widgets": {}
  }
 },
 "nbformat": 4,
 "nbformat_minor": 0
}
